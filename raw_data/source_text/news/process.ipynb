{
 "cells": [
  {
   "cell_type": "code",
   "execution_count": 2,
   "metadata": {},
   "outputs": [
    {
     "name": "stdout",
     "output_type": "stream",
     "text": [
      "Deleted All Santander staff and millions of customers have data hacked.txt\n",
      "Deleted Football gossip_ Sancho, Mainoo, Pickford, Toney, Zubimendi - BBC Sport.txt\n",
      "Deleted Geek Girl_ The Teen drama tackling neurodiversity and bullying.txt\n",
      "Deleted Rangers_ Ryan Jack, Kemar Roofe, John Lundstram, John McLaughlin, Borna Barisic depart - BBC Sport.txt\n",
      "Deleted TikTok_ Why young delay 'adulting' with milestones out of reach.txt\n",
      "File cleanup complete.\n",
      "Deleted Giant Pandas Will Head to D.C. National Zoo From China - The New York Times.txt\n",
      "Deleted If A.I. Can Do Your Job, Maybe It Can Also Replace Your C.E.O. - The New York Times.txt\n",
      "Deleted Opinion _ What if This Is Our Last Real Election_ - The New York Times.txt\n",
      "Deleted When the Stage Harnesses the Power of the Movies - The New York Times.txt\n",
      "File cleanup complete.\n",
      "Deleted .DS_Store\n",
      "Deleted France, Germany urge tougher EU checks on biofuel imports in fraud probe _ Reuters.txt\n",
      "Deleted Lengthy immigrant detention can be unconstitutional, US appeals court rules _ Reuters.txt\n",
      "Deleted Live Nation probing Ticketmaster hack amid user data leak concerns _ Reuters.txt\n",
      "Deleted US FDA approves Moderna's RSV vaccine with lower-than-expected efficacy in its label _ Reuters.txt\n",
      "Deleted US private equity firm accused of firing assistant over harassment complaint _ Reuters.txt\n",
      "File cleanup complete.\n"
     ]
    }
   ],
   "source": [
    "import os\n",
    "import random\n",
    "\n",
    "# Specify the directory\n",
    "directory = ['BBC', 'NYT', 'Reuters']\n",
    "\n",
    "\n",
    "for dir in directory:\n",
    "    # Get all files in the directory\n",
    "    files = [f for f in os.listdir(dir) if os.path.isfile(os.path.join(dir, f))]\n",
    "\n",
    "    # Check if there are more than 10 files\n",
    "    if len(files) > 5:\n",
    "        # Randomly choose 10 files to keep\n",
    "        files_to_keep = random.sample(files, 5)\n",
    "\n",
    "        # Files to delete are those not in the files_to_keep list\n",
    "        files_to_delete = [f for f in files if f not in files_to_keep]\n",
    "\n",
    "        # Delete the files not chosen to be kept\n",
    "        for file in files_to_delete:\n",
    "            os.remove(os.path.join(dir, file))\n",
    "            print(f\"Deleted {file}\")\n",
    "    else:\n",
    "        print(\"There are 10 or fewer files in the directory. No files were deleted.\")\n",
    "\n",
    "    print(\"File cleanup complete.\")\n"
   ]
  },
  {
   "cell_type": "code",
   "execution_count": 4,
   "metadata": {},
   "outputs": [
    {
     "name": "stdout",
     "output_type": "stream",
     "text": [
      "BBC\n",
      "$60m collection of rare cars and sneakers going on auction.txt\n",
      "Boeing must show 'systemic change' after latest crisis, says regulator.txt\n",
      "Prostate cancer hopes raised after at-home spit test trials.txt\n",
      "Turkey's new Mesopotamia Express takes visitors through the country's rich history.txt\n",
      "Wordle locked in legal row with geography spinoff, Worldle.txt\n",
      "NYT\n",
      "Bruhat Soma Electric Tiebreaking Performance Earns Spelling Bee Championship - The New York Times.txt\n",
      "Fox News and MSNBC Notch Rating Wins After Trump Verdict - The New York Times.txt\n",
      "Google A.I. Search Leaves Publishers Scrambling - The New York Times.txt\n",
      "Minnesota Democrats Call on State Senator Charged With Burglary to Resign - The New York Times.txt\n",
      "The Only Ice Cream Recipe Youl Ever Need - The New York Times.txt\n",
      "Reuters\n",
      "Cleaner shipping fuel is contributing to ocean warming, scientists say _ Reuters.txt\n",
      "House Dems urge NLRB probe of Google's alleged union busting _ Reuters.txt\n",
      "PwC to become OpenAI's largest enterprise customer amid genAI boom _ Reuters.txt\n",
      "Robots play soccer at Geneva AI showcase _ Reuters.txt\n",
      "Wegovy maker Novo Nordisk sues nine spas, clinics and pharmacies over copycat drugs _ Reuters.txt\n"
     ]
    }
   ],
   "source": [
    "import os\n",
    "import random\n",
    "\n",
    "# Specify the directory\n",
    "directory = ['BBC', 'NYT', 'Reuters']\n",
    "\n",
    "\n",
    "for dir in directory:\n",
    "    # Get all files in the directory\n",
    "    files = [f for f in os.listdir(dir) if os.path.isfile(os.path.join(dir, f))]\n",
    "    print(dir)\n",
    "    for file in files:\n",
    "        print(file)"
   ]
  },
  {
   "cell_type": "code",
   "execution_count": 4,
   "metadata": {},
   "outputs": [
    {
     "name": "stdout",
     "output_type": "stream",
     "text": [
      "BBC\n",
      "NYT\n",
      "Reuters\n"
     ]
    }
   ],
   "source": [
    "import os\n",
    "import json\n",
    "\n",
    "\n",
    "def linearize_news_article(article_dict):\n",
    "    # Extract necessary fields from the input dictionary\n",
    "    site_name = article_dict.get(\"siteName\", \"\")\n",
    "    title = article_dict.get(\"title\", \"\")\n",
    "    byline = article_dict.get(\"byline\", \"\")\n",
    "    excerpt = article_dict.get(\"excerpt\", \"\")\n",
    "    text_content = article_dict.get(\"textContent\", \"\")\n",
    "    length = article_dict.get(\"length\", 0)\n",
    "    \n",
    "    # Linearized format\n",
    "    linearized_article = f\"{site_name} - {title}\\n\"\n",
    "    linearized_article += f\"By {byline}\\n\"\n",
    "    linearized_article += f\"Article Length: {length} characters\\n\\n\"\n",
    "    linearized_article += f\"{excerpt}\\n\\n\"\n",
    "    linearized_article += text_content.strip()\n",
    "    \n",
    "    return linearized_article\n",
    "\n",
    "# Specify the directory\n",
    "directory = ['BBC', 'NYT', 'Reuters']\n",
    "\n",
    "for dir in directory:\n",
    "    # Get all files in the directory\n",
    "    files = [f for f in os.listdir(dir) if os.path.isfile(os.path.join(dir, f))]\n",
    "    print(dir)\n",
    "    for file in files:\n",
    "        with open(os.path.join(dir, file), 'r') as f:\n",
    "            data = json.load(f)\n",
    "        article = linearize_news_article(data)\n",
    "        with open(os.path.join(dir, file), 'w') as f:\n",
    "            f.write(article)"
   ]
  },
  {
   "cell_type": "code",
   "execution_count": null,
   "metadata": {},
   "outputs": [],
   "source": []
  }
 ],
 "metadata": {
  "kernelspec": {
   "display_name": "copyright",
   "language": "python",
   "name": "python3"
  },
  "language_info": {
   "codemirror_mode": {
    "name": "ipython",
    "version": 3
   },
   "file_extension": ".py",
   "mimetype": "text/x-python",
   "name": "python",
   "nbconvert_exporter": "python",
   "pygments_lexer": "ipython3",
   "version": "3.10.14"
  }
 },
 "nbformat": 4,
 "nbformat_minor": 2
}
